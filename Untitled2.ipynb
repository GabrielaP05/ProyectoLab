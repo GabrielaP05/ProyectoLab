{
  "nbformat": 4,
  "nbformat_minor": 0,
  "metadata": {
    "colab": {
      "provenance": [],
      "authorship_tag": "ABX9TyOgfdeLu/YcJV9IyvsyMb8B",
      "include_colab_link": true
    },
    "kernelspec": {
      "name": "python3",
      "display_name": "Python 3"
    },
    "language_info": {
      "name": "python"
    }
  },
  "cells": [
    {
      "cell_type": "markdown",
      "metadata": {
        "id": "view-in-github",
        "colab_type": "text"
      },
      "source": [
        "<a href=\"https://colab.research.google.com/github/GabrielaP05/ProyectoLab/blob/main/Untitled2.ipynb\" target=\"_parent\"><img src=\"https://colab.research.google.com/assets/colab-badge.svg\" alt=\"Open In Colab\"/></a>"
      ]
    },
    {
      "cell_type": "code",
      "execution_count": 1,
      "metadata": {
        "colab": {
          "base_uri": "https://localhost:8080/",
          "height": 364
        },
        "id": "1wPKxZZdg9W0",
        "outputId": "4a014e81-b196-4d3b-ea8e-bd6feb76d88e"
      },
      "outputs": [
        {
          "output_type": "error",
          "ename": "FileNotFoundError",
          "evalue": "[Errno 2] No such file or directory: 'ruta/a/tu/carpeta/de/mapas'",
          "traceback": [
            "\u001b[0;31m---------------------------------------------------------------------------\u001b[0m",
            "\u001b[0;31mFileNotFoundError\u001b[0m                         Traceback (most recent call last)",
            "\u001b[0;32m<ipython-input-1-15fec627b51a>\u001b[0m in \u001b[0;36m<cell line: 51>\u001b[0;34m()\u001b[0m\n\u001b[1;32m     50\u001b[0m \u001b[0;31m# Ejemplo de uso\u001b[0m\u001b[0;34m\u001b[0m\u001b[0;34m\u001b[0m\u001b[0m\n\u001b[1;32m     51\u001b[0m \u001b[0;32mif\u001b[0m \u001b[0m__name__\u001b[0m \u001b[0;34m==\u001b[0m \u001b[0;34m\"__main__\"\u001b[0m\u001b[0;34m:\u001b[0m\u001b[0;34m\u001b[0m\u001b[0;34m\u001b[0m\u001b[0m\n\u001b[0;32m---> 52\u001b[0;31m     \u001b[0mjuego_archivo\u001b[0m \u001b[0;34m=\u001b[0m \u001b[0mJuegoArchivo\u001b[0m\u001b[0;34m(\u001b[0m\u001b[0;34m'ruta/a/tu/carpeta/de/mapas'\u001b[0m\u001b[0;34m)\u001b[0m\u001b[0;34m\u001b[0m\u001b[0;34m\u001b[0m\u001b[0m\n\u001b[0m\u001b[1;32m     53\u001b[0m     \u001b[0mjuego_archivo\u001b[0m\u001b[0;34m.\u001b[0m\u001b[0mmostrar_mapa\u001b[0m\u001b[0;34m(\u001b[0m\u001b[0;34m)\u001b[0m\u001b[0;34m\u001b[0m\u001b[0;34m\u001b[0m\u001b[0m\n",
            "\u001b[0;32m<ipython-input-1-15fec627b51a>\u001b[0m in \u001b[0;36m__init__\u001b[0;34m(self, path_a_mapas)\u001b[0m\n\u001b[1;32m     23\u001b[0m     \u001b[0;32mdef\u001b[0m \u001b[0m__init__\u001b[0m\u001b[0;34m(\u001b[0m\u001b[0mself\u001b[0m\u001b[0;34m,\u001b[0m \u001b[0mpath_a_mapas\u001b[0m\u001b[0;34m)\u001b[0m\u001b[0;34m:\u001b[0m\u001b[0;34m\u001b[0m\u001b[0;34m\u001b[0m\u001b[0m\n\u001b[1;32m     24\u001b[0m         \u001b[0;31m# Lista los archivos en el directorio de mapas\u001b[0m\u001b[0;34m\u001b[0m\u001b[0;34m\u001b[0m\u001b[0m\n\u001b[0;32m---> 25\u001b[0;31m         \u001b[0marchivos\u001b[0m \u001b[0;34m=\u001b[0m \u001b[0mos\u001b[0m\u001b[0;34m.\u001b[0m\u001b[0mlistdir\u001b[0m\u001b[0;34m(\u001b[0m\u001b[0mpath_a_mapas\u001b[0m\u001b[0;34m)\u001b[0m\u001b[0;34m\u001b[0m\u001b[0;34m\u001b[0m\u001b[0m\n\u001b[0m\u001b[1;32m     26\u001b[0m \u001b[0;34m\u001b[0m\u001b[0m\n\u001b[1;32m     27\u001b[0m         \u001b[0;31m# Elige un archivo aleatorio\u001b[0m\u001b[0;34m\u001b[0m\u001b[0;34m\u001b[0m\u001b[0m\n",
            "\u001b[0;31mFileNotFoundError\u001b[0m: [Errno 2] No such file or directory: 'ruta/a/tu/carpeta/de/mapas'"
          ]
        }
      ],
      "source": [
        "import os\n",
        "import random\n",
        "\n",
        "class Juego:\n",
        "    def __init__(self, mapa, inicio, fin):\n",
        "        self.mapa = mapa\n",
        "        self.inicio = inicio\n",
        "        self.fin = fin\n",
        "\n",
        "    def mostrar_mapa(self):\n",
        "        for fila in self.mapa:\n",
        "            print(\" \".join(fila))\n",
        "\n",
        "    def mover_jugador(self, direccion):\n",
        "        # Implementa la lógica para mover el jugador en la dirección dada\n",
        "        pass\n",
        "\n",
        "    def verificar_fin(self):\n",
        "        # Implementa la lógica para verificar si el jugador ha alcanzado el final\n",
        "        pass\n",
        "\n",
        "class JuegoArchivo(Juego):\n",
        "    def __init__(self, path_a_mapas):\n",
        "        # Lista los archivos en el directorio de mapas\n",
        "        archivos = os.listdir(path_a_mapas)\n",
        "\n",
        "        # Elige un archivo aleatorio\n",
        "        nombre_archivo = random.choice(archivos)\n",
        "\n",
        "        # Componer el path completo\n",
        "        path_completo = os.path.join(path_a_mapas, nombre_archivo)\n",
        "\n",
        "        # Llama al método para leer los datos del archivo y configurar el juego\n",
        "        mapa, inicio, fin = self.leer_archivo(path_completo)\n",
        "        super().__init__(mapa, inicio, fin)\n",
        "\n",
        "    def leer_archivo(self, path_archivo):\n",
        "        with open(path_archivo, 'r') as archivo:\n",
        "            # Lee las dimensiones del mapa y las posiciones de inicio y fin\n",
        "            dimensiones = archivo.readline().split()\n",
        "            filas, columnas = int(dimensiones[0]), int(dimensiones[1])\n",
        "\n",
        "            # Lee el mapa y las posiciones de inicio y fin\n",
        "            mapa = [archivo.readline().strip() for _ in range(filas)]\n",
        "            inicio = tuple(map(int, archivo.readline().split()))\n",
        "            fin = tuple(map(int, archivo.readline().split()))\n",
        "\n",
        "        return mapa, inicio, fin\n",
        "\n",
        "# Ejemplo de uso\n",
        "if __name__ == \"__main__\":\n",
        "    juego_archivo = JuegoArchivo('ruta/a/tu/carpeta/de/mapas')\n",
        "    juego_archivo.mostrar_mapa()"
      ]
    }
  ]
}