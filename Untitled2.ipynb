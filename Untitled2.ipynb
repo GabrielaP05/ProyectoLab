import os
import random

class Juego:
    def __init__(self, mapa, inicio, fin):
        self.mapa = mapa
        self.inicio = inicio
        self.fin = fin

    def mostrar_mapa(self):
        for fila in self.mapa:
            print(" ".join(fila))

    def mover_jugador(self, direccion):
        # Implementa la lógica para mover el jugador en la dirección dada
        pass

    def verificar_fin(self):
        # Implementa la lógica para verificar si el jugador ha alcanzado el final
        pass

class JuegoArchivo(Juego):
    def __init__(self, path_a_mapas):
        # Lista los archivos en el directorio de mapas
        archivos = os.listdir(path_a_mapas)

        # Elige un archivo aleatorio
        nombre_archivo = random.choice(archivos)

        # Componer el path completo
        path_completo = os.path.join(path_a_mapas, nombre_archivo)

        # Llama al método para leer los datos del archivo y configurar el juego
        mapa, inicio, fin = self.leer_archivo(path_completo)
        super().__init__(mapa, inicio, fin)

    def leer_archivo(self, path_archivo):
        with open(path_archivo, 'r') as archivo:
            # Lee las dimensiones del mapa y las posiciones de inicio y fin
            dimensiones = archivo.readline().split()
            filas, columnas = int(dimensiones[0]), int(dimensiones[1])

            # Lee el mapa y las posiciones de inicio y fin
            mapa = [archivo.readline().strip() for _ in range(filas)]
            inicio = tuple(map(int, archivo.readline().split()))
            fin = tuple(map(int, archivo.readline().split()))

        return mapa, inicio, fin

# Ejemplo de uso
if __name__ == "__main__":
    juego_archivo = JuegoArchivo('ruta/a/tu/carpeta/de/mapas')
    juego_archivo.mostrar_mapa()
